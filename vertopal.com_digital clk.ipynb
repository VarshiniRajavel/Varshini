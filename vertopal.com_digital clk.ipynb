{
 "cells": [
  {
   "cell_type": "markdown",
   "metadata": {},
   "source": [
    "import tkinter as tk from tkinter import \\* from time import strftime\n",
    "from PIL import Image, ImageTk\n",
    "\n",
    "window_main=tk.Tk() window_main.title(“Digital Wall clock”)\n",
    "window_main.geometry(‘500x500’)\n",
    "\n",
    "\\#import image\n",
    "img=ImageTk.PhotoImage(Image.open(“C:\\\\Users\\\\varshinirajavel\\\\OneDrive\\\\Documents\\\\clock\n",
    "picture\\\\clock.jpg”)) l=Label(image=img) l.pack()\n",
    "\n",
    "def time(): text=strftime(‘%H:%M:%S %p’) label.config(text=text)\n",
    "label.after(1000,time)\n",
    "\n",
    "label=Label(window_main,font=(“ds-digital”,15,“bold”),\n",
    "background=“black”,height=2 ,borderwidth=6, relief=“solid”,\n",
    "foreground=“white”) label.place(x=170,y=170) time()\n",
    "\n",
    "window_main.mainloop()"
   ]
  }
 ],
 "nbformat": 4,
 "nbformat_minor": 5,
 "metadata": {}
}
